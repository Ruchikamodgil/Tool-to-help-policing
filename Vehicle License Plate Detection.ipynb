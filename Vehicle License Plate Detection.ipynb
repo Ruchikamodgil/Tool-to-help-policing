{
 "cells": [
  {
   "cell_type": "code",
   "execution_count": null,
   "metadata": {},
   "outputs": [],
   "source": [
    "import cv2\n",
    "import time\n",
    "from PIL import Image\n",
    "import pytesseract as tess\n",
    "tess.pytesseract.tesseract_cmd=r\"C:\\Users\\ASUS\\AppData\\Local\\Tesseract-OCR\\tesseract.exe\"\n",
    "from firebase import firebase  \n",
    "firebase = firebase.FirebaseApplication('https://sample-xxxxxx.firebaseio.com/', None)  #link to database\n",
    "\n",
    "plate_cascade =cv2.CascadeClassifier(r'haarcascade_licence_plate_rus_16stages.xml')\n",
    "\n",
    "def plate(img,c): # the function detects and read the number plate.\n",
    "    plate_img = img.copy()\n",
    "    img = img.copy()\n",
    "    plate_rect = plate_cascade.detectMultiScale(plate_img,1.3,7) \n",
    "    \n",
    "    for (x,y,w,h) in plate_rect:\n",
    "        _img = img[y:y+h, x:x+w, :] \n",
    "        text=tess.image_to_string(_img)\n",
    "        if text!=\"\":\n",
    "            c.append(text)\n",
    "        print(\"Text\",text)\n",
    "        font=cv2.FONT_HERSHEY_SIMPLEX\n",
    "        bottomLeftCornerOfText=(x,y-10)\n",
    "        fontScale=1\n",
    "        fontColor=(51, 51, 255)\n",
    "        lineType=2\n",
    "        cv2.putText(plate_img,text,bottomLeftCornerOfText,font,fontScale,fontColor,lineType)\n",
    "        cv2.rectangle(plate_img, (x,y), (x+w, y+h), (51,51,255), 3) \n",
    "        \n",
    "    return plate_img \n",
    "\n",
    "cam = cv2.VideoCapture(r\"C:\\Users\\ASUS\\Downloads\\vid3.mp4\") # reading the video file.\n",
    "c=[]\n",
    "while cam.isOpened():\n",
    "    ret, frame = cam.read() \n",
    "    if ret == True:\n",
    "        fr = plate(frame,c) \n",
    "        cv2.imshow('video', fr) \n",
    "        if(cv2.waitKey(1) & 0xFF == 27): # press 'Esc' key to exit anytime.\n",
    "            break\n",
    "    else:\n",
    "        break\n",
    "        \n",
    "        \n",
    "cam.release()\n",
    "cv2.destroyAllWindows()"
   ]
  },
  {
   "cell_type": "code",
   "execution_count": null,
   "metadata": {},
   "outputs": [],
   "source": [
    "from datetime import date\n",
    "from datetime import datetime\n",
    "today = date.today()\n",
    "y= today.strftime(\"%d/%m/%Y\")    #current date\n",
    "now = datetime.now()\n",
    "\n",
    "q = now.strftime(\"%H:%M:%S\")     #current time"
   ]
  },
  {
   "cell_type": "code",
   "execution_count": null,
   "metadata": {},
   "outputs": [],
   "source": [
    "a=[25.5941,85.1376]  #latitude and longitude \n",
    "a.append(q) #add current time\n",
    "a.append(y) #add current date"
   ]
  },
  {
   "cell_type": "code",
   "execution_count": 3,
   "metadata": {},
   "outputs": [],
   "source": [
    "def most_frequent(List):   #function to add most frequently occurred string \n",
    "    counter = 0\n",
    "    num = List[0] \n",
    "      \n",
    "    for i in List: \n",
    "        curr_frequency = List.count(i) \n",
    "        if(curr_frequency> counter): \n",
    "            counter = curr_frequency \n",
    "            num = i \n",
    "  \n",
    "    return num"
   ]
  },
  {
   "cell_type": "code",
   "execution_count": null,
   "metadata": {},
   "outputs": [],
   "source": [
    "d=most_frequent(c)\n",
    "print(d)"
   ]
  },
  {
   "cell_type": "code",
   "execution_count": null,
   "metadata": {},
   "outputs": [],
   "source": [
    "result=firebase.post(\"result\",{d:a})                 # to update data in firebase"
   ]
  }
 ],
 "metadata": {
  "kernelspec": {
   "display_name": "Python 3",
   "language": "python",
   "name": "python3"
  },
  "language_info": {
   "codemirror_mode": {
    "name": "ipython",
    "version": 3
   },
   "file_extension": ".py",
   "mimetype": "text/x-python",
   "name": "python",
   "nbconvert_exporter": "python",
   "pygments_lexer": "ipython3",
   "version": "3.7.4"
  }
 },
 "nbformat": 4,
 "nbformat_minor": 2
}
